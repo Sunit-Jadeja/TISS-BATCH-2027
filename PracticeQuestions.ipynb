{
 "cells": [
  {
   "attachments": {},
   "cell_type": "markdown",
   "id": "83d76784",
   "metadata": {},
   "source": [
    "# Q1: How many built-in data types are there? (Define them in empty brackets wherever possible)\n",
    "\n",
    "\n",
    "\n",
    "# Q2: Write maximum 4 to 1 operations of these data types\n",
    "\n",
    "\n",
    "# Q3: Difference between built-in function, module & library with one example\n",
    "\n",
    "# Q4: What are mutable and immutable data types name them & give example\n",
    "\n",
    "# Q5: What are compound statements?\n",
    "\n",
    "# Q6: Difference between IF statements, While statements & For loop? code two examples for all of them \n",
    "\n",
    "# Q7: clothes = [\"shirt\", \"sock\", \"pants\", \"socks\", \"towel\"] from the list given can you pull out \"sock\" with list operation & with for loop\n",
    "\n",
    "# Q8: What is a list comprehension? Why is it required & code 2 examples for it\n",
    "\n",
    "# Q9: Which data type is ordered collection of multi-typed object?\n",
    "\n",
    "# Q10: Can you explain the difference between below output\n",
    "    L = [10,20,30.4, \"Hello World\", 100]\n",
    "    print([L]*2)\n",
    "    L = [10,20,30.4, \"Hello World\", 100]\n",
    "    print(L*2)\n",
    "\n",
    "# Q11: What is the output of below code & explain the output\n",
    "\n",
    "    D = {'a':1, 'b':3, 'c':4}\n",
    "    D[0]\n",
    "\n",
    "\n",
    "# Q12. What will be the output & explain the output\n",
    "\n",
    "    setA = set(\"hello\")\n",
    "    print(setA)\n",
    "    \n",
    "# Q13 What will be the output & explain the logic behind it\n",
    "    X = 10\n",
    "    X= 10.4\n",
    "    X = \"Hello World\"\n",
    "    type(X)\n",
    "\n",
    "\n",
    "# Q14 What is a function? Why is it required & give 3 custom define functions of yours\n",
    "\n",
    "\n",
    "# Q15. What will be the output of below code & explain the output\n",
    "\n",
    "    St=”Hello world”\n",
    "    St[0]=”H”\n",
    "    print(St)\n",
    "\n"
   ]
  },
  {
   "cell_type": "markdown",
   "id": "9df51f45",
   "metadata": {},
   "source": []
  },
  {
   "cell_type": "code",
   "execution_count": null,
   "id": "64c0388f",
   "metadata": {},
   "outputs": [],
   "source": []
  },
  {
   "cell_type": "markdown",
   "id": "abd7a783",
   "metadata": {},
   "source": []
  },
  {
   "cell_type": "code",
   "execution_count": null,
   "id": "a20acbe7",
   "metadata": {},
   "outputs": [],
   "source": []
  },
  {
   "cell_type": "code",
   "execution_count": null,
   "id": "12b8ff8d",
   "metadata": {},
   "outputs": [],
   "source": []
  },
  {
   "cell_type": "code",
   "execution_count": null,
   "id": "12deda26",
   "metadata": {},
   "outputs": [],
   "source": []
  },
  {
   "cell_type": "code",
   "execution_count": null,
   "id": "2479d994",
   "metadata": {},
   "outputs": [],
   "source": []
  },
  {
   "cell_type": "code",
   "execution_count": null,
   "id": "700fff41",
   "metadata": {},
   "outputs": [],
   "source": []
  },
  {
   "cell_type": "code",
   "execution_count": null,
   "id": "16518450",
   "metadata": {},
   "outputs": [],
   "source": []
  },
  {
   "cell_type": "code",
   "execution_count": null,
   "id": "9480dcc9",
   "metadata": {},
   "outputs": [],
   "source": []
  },
  {
   "cell_type": "code",
   "execution_count": null,
   "id": "a21c64e1",
   "metadata": {},
   "outputs": [],
   "source": []
  },
  {
   "cell_type": "code",
   "execution_count": null,
   "id": "a366f859",
   "metadata": {},
   "outputs": [],
   "source": []
  },
  {
   "cell_type": "code",
   "execution_count": null,
   "id": "7343175e",
   "metadata": {},
   "outputs": [],
   "source": []
  },
  {
   "cell_type": "code",
   "execution_count": null,
   "id": "4f2e468b",
   "metadata": {},
   "outputs": [],
   "source": []
  },
  {
   "cell_type": "code",
   "execution_count": null,
   "id": "f208fa2f",
   "metadata": {},
   "outputs": [],
   "source": []
  },
  {
   "cell_type": "code",
   "execution_count": null,
   "id": "54055bd3",
   "metadata": {},
   "outputs": [],
   "source": []
  }
 ],
 "metadata": {
  "kernelspec": {
   "display_name": "Python 3 (ipykernel)",
   "language": "python",
   "name": "python3"
  },
  "language_info": {
   "codemirror_mode": {
    "name": "ipython",
    "version": 3
   },
   "file_extension": ".py",
   "mimetype": "text/x-python",
   "name": "python",
   "nbconvert_exporter": "python",
   "pygments_lexer": "ipython3",
   "version": "3.11.3"
  }
 },
 "nbformat": 4,
 "nbformat_minor": 5
}
